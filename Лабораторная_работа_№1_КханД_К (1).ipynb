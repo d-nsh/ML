{
  "nbformat": 4,
  "nbformat_minor": 0,
  "metadata": {
    "colab": {
      "provenance": []
    },
    "kernelspec": {
      "name": "python3",
      "display_name": "Python 3"
    },
    "language_info": {
      "name": "python"
    }
  },
  "cells": [
    {
      "cell_type": "markdown",
      "source": [
        "Сначала откроем выбранный датасет. Загрузим таблицу в переменную data и выведем ее. Укажем, что разделителем по столбцам в csv файле является запятая"
      ],
      "metadata": {
        "id": "QhdrkB4evtc-"
      }
    },
    {
      "cell_type": "code",
      "source": [
        "import pandas as pd\n",
        "data = pd.read_csv('bmi.csv', delimiter = ',')"
      ],
      "metadata": {
        "id": "wJxFtRcDSO1_"
      },
      "execution_count": null,
      "outputs": []
    },
    {
      "cell_type": "code",
      "execution_count": 6,
      "metadata": {
        "colab": {
          "base_uri": "https://localhost:8080/"
        },
        "id": "oeCJOL6JvjK6",
        "outputId": "3649c2e1-2e8c-485d-9707-8a687b3f04d9"
      },
      "outputs": [
        {
          "output_type": "stream",
          "name": "stdout",
          "text": [
            "     Gender  Height  Weight  Index\n",
            "0      Male     174      96      4\n",
            "1      Male     189      87      2\n",
            "2    Female     185     110      4\n",
            "3    Female     195     104      3\n",
            "4      Male     149      61      3\n",
            "..      ...     ...     ...    ...\n",
            "495  Female     150     153      5\n",
            "496  Female     184     121      4\n",
            "497  Female     141     136      5\n",
            "498    Male     150      95      5\n",
            "499    Male     173     131      5\n",
            "\n",
            "[500 rows x 4 columns]\n"
          ]
        }
      ],
      "source": [
        "import pandas as pd\n",
        "data = pd.read_csv('bmi.csv', delimiter = ',')\n",
        "print(data)"
      ]
    },
    {
      "cell_type": "markdown",
      "source": [
        "Выведем первый и третий столбцы выборки сначала вместе, потом по отдельности.\n",
        "Функция iloc позволяет выбирать объекты таблицы по индексам. Первый аргумент - индекс или срез строк, второй - индекс или срез столбцов"
      ],
      "metadata": {
        "id": "vS0IVGV7x5go"
      }
    },
    {
      "cell_type": "code",
      "source": [
        "print(data.iloc[:, 0:4:2])\n",
        "print(data.iloc[:,0])\n",
        "print(data.iloc[:,2])"
      ],
      "metadata": {
        "colab": {
          "base_uri": "https://localhost:8080/"
        },
        "id": "389WN3O7x0n7",
        "outputId": "012cc253-a58c-4fe6-ff20-acafa2d970b6"
      },
      "execution_count": 7,
      "outputs": [
        {
          "output_type": "stream",
          "name": "stdout",
          "text": [
            "     Gender  Weight\n",
            "0      Male      96\n",
            "1      Male      87\n",
            "2    Female     110\n",
            "3    Female     104\n",
            "4      Male      61\n",
            "..      ...     ...\n",
            "495  Female     153\n",
            "496  Female     121\n",
            "497  Female     136\n",
            "498    Male      95\n",
            "499    Male     131\n",
            "\n",
            "[500 rows x 2 columns]\n",
            "0        Male\n",
            "1        Male\n",
            "2      Female\n",
            "3      Female\n",
            "4        Male\n",
            "        ...  \n",
            "495    Female\n",
            "496    Female\n",
            "497    Female\n",
            "498      Male\n",
            "499      Male\n",
            "Name: Gender, Length: 500, dtype: object\n",
            "0       96\n",
            "1       87\n",
            "2      110\n",
            "3      104\n",
            "4       61\n",
            "      ... \n",
            "495    153\n",
            "496    121\n",
            "497    136\n",
            "498     95\n",
            "499    131\n",
            "Name: Weight, Length: 500, dtype: int64\n"
          ]
        }
      ]
    },
    {
      "cell_type": "markdown",
      "source": [
        "Выведем первые 10 строк выборки, используя тот же метод iloc"
      ],
      "metadata": {
        "id": "Shq7DH0C1FmW"
      }
    },
    {
      "cell_type": "code",
      "source": [
        "print(data.iloc[:10, :])"
      ],
      "metadata": {
        "colab": {
          "base_uri": "https://localhost:8080/"
        },
        "id": "YloGVsFO1Mn7",
        "outputId": "4fc01962-672b-4ebe-f4f7-a38d8c5193e0"
      },
      "execution_count": 10,
      "outputs": [
        {
          "output_type": "stream",
          "name": "stdout",
          "text": [
            "   Gender  Height  Weight  Index\n",
            "0    Male     174      96      4\n",
            "1    Male     189      87      2\n",
            "2  Female     185     110      4\n",
            "3  Female     195     104      3\n",
            "4    Male     149      61      3\n",
            "5    Male     189     104      3\n",
            "6    Male     147      92      5\n",
            "7    Male     154     111      5\n",
            "8    Male     174      90      3\n",
            "9  Female     169     103      4\n"
          ]
        }
      ]
    },
    {
      "cell_type": "markdown",
      "source": [
        "Выведем 23 случайных строки из выборки, используя метод sample"
      ],
      "metadata": {
        "id": "6mxLtdlD1nM0"
      }
    },
    {
      "cell_type": "code",
      "source": [
        "print(data.sample(n = 23))"
      ],
      "metadata": {
        "colab": {
          "base_uri": "https://localhost:8080/"
        },
        "id": "jGpjqKPV1tQ2",
        "outputId": "6fefa10b-864a-4415-a907-8ed4ed263fcd"
      },
      "execution_count": 9,
      "outputs": [
        {
          "output_type": "stream",
          "name": "stdout",
          "text": [
            "     Gender  Height  Weight  Index\n",
            "108  Female     181     106      4\n",
            "431  Female     163     154      5\n",
            "466  Female     188      99      3\n",
            "423  Female     178     107      4\n",
            "248  Female     188      90      3\n",
            "464  Female     181      80      2\n",
            "125    Male     158      96      4\n",
            "384  Female     182     149      5\n",
            "140  Female     169      54      2\n",
            "424    Male     174      54      1\n",
            "193  Female     142     137      5\n",
            "355    Male     174      90      3\n",
            "373  Female     163      63      2\n",
            "386    Male     146     138      5\n",
            "397    Male     169     136      5\n",
            "277    Male     190      80      2\n",
            "460    Male     179     123      4\n",
            "376    Male     142      91      5\n",
            "50   Female     168     135      5\n",
            "471    Male     154     112      5\n",
            "70   Female     153      51      2\n",
            "287    Male     178     160      5\n",
            "100    Male     199     156      4\n"
          ]
        }
      ]
    },
    {
      "cell_type": "markdown",
      "source": [],
      "metadata": {
        "id": "nMZtpcKc2L-X"
      }
    },
    {
      "cell_type": "markdown",
      "source": [
        "Выведем статистические данные из числовых столбцов (последние 3). Используя метод describe()"
      ],
      "metadata": {
        "id": "XeN-QVUY16xC"
      }
    },
    {
      "cell_type": "code",
      "source": [
        "\n",
        "h = data['Height']\n",
        "w = data['Weight']\n",
        "i = data['Index']\n",
        "print(f'Столбец \"рост\": {h.describe()}')\n",
        "print(f'Столбец \"вес: {w.describe()}')\n",
        "print(f'Столбец \"индекс\": {i.describe()}')"
      ],
      "metadata": {
        "colab": {
          "base_uri": "https://localhost:8080/"
        },
        "id": "Dc20HH3s2Fui",
        "outputId": "1bcdd104-9a56-4646-fe0a-fb318545e33f"
      },
      "execution_count": 11,
      "outputs": [
        {
          "output_type": "stream",
          "name": "stdout",
          "text": [
            "Столбец \"рост\": count    500.000000\n",
            "mean     169.944000\n",
            "std       16.375261\n",
            "min      140.000000\n",
            "25%      156.000000\n",
            "50%      170.500000\n",
            "75%      184.000000\n",
            "max      199.000000\n",
            "Name: Height, dtype: float64\n",
            "Столбец \"вес: count    500.000000\n",
            "mean     106.000000\n",
            "std       32.382607\n",
            "min       50.000000\n",
            "25%       80.000000\n",
            "50%      106.000000\n",
            "75%      136.000000\n",
            "max      160.000000\n",
            "Name: Weight, dtype: float64\n",
            "Столбец \"индекс\": count    500.000000\n",
            "mean       3.748000\n",
            "std        1.355053\n",
            "min        0.000000\n",
            "25%        3.000000\n",
            "50%        4.000000\n",
            "75%        5.000000\n",
            "max        5.000000\n",
            "Name: Index, dtype: float64\n"
          ]
        }
      ]
    },
    {
      "cell_type": "markdown",
      "source": [
        "выведем разницу в статистическом поле в данных для женщин и мужчин, так как на основе этих данных можно будет сделать некоторые выводы"
      ],
      "metadata": {
        "id": "643Yi2la3Yp7"
      }
    },
    {
      "cell_type": "code",
      "source": [
        "\n",
        "men = data[data['Gender'] == 'Male']\n",
        "women = data[data['Gender'] == 'Female']\n",
        "print(f'Статистика для мужчин: {men[['Height', 'Weight', 'Index']].describe()}')\n",
        "print(f'Статистика для женщин: {women[['Height', 'Weight', 'Index']].describe()}')"
      ],
      "metadata": {
        "colab": {
          "base_uri": "https://localhost:8080/"
        },
        "id": "EDQBDrBp3tRm",
        "outputId": "121c0e97-af9f-439e-ad83-c2366365df85"
      },
      "execution_count": 12,
      "outputs": [
        {
          "output_type": "stream",
          "name": "stdout",
          "text": [
            "Статистика для мужчин:            Height      Weight       Index\n",
            "count  245.000000  245.000000  245.000000\n",
            "mean   169.648980  106.314286    3.787755\n",
            "std     17.065665   31.832734    1.386355\n",
            "min    140.000000   50.000000    0.000000\n",
            "25%    154.000000   80.000000    3.000000\n",
            "50%    171.000000  105.000000    4.000000\n",
            "75%    183.000000  137.000000    5.000000\n",
            "max    199.000000  160.000000    5.000000\n",
            "Статистика для женщин:            Height      Weight       Index\n",
            "count  255.000000  255.000000  255.000000\n",
            "mean   170.227451  105.698039    3.709804\n",
            "std     15.711825   32.962025    1.325886\n",
            "min    140.000000   50.000000    0.000000\n",
            "25%    157.000000   79.000000    3.000000\n",
            "50%    170.000000  106.000000    4.000000\n",
            "75%    184.000000  135.000000    5.000000\n",
            "max    199.000000  160.000000    5.000000\n"
          ]
        }
      ]
    },
    {
      "cell_type": "markdown",
      "source": [
        "Сделаем базовую группировку по полу"
      ],
      "metadata": {
        "id": "tdzv7L7GSv57"
      }
    },
    {
      "cell_type": "code",
      "source": [
        "grouped_by_gender = data.groupby('Gender').agg({\n",
        "    'Height': ['mean', 'std', 'min', 'max'],\n",
        "    'Weight' : ['mean', 'std', 'min', 'max'],\n",
        "    'Index': ['mean', 'std', 'min', 'max']\n",
        "})\n",
        "print(f'Статистика по полу: {grouped_by_gender}')"
      ],
      "metadata": {
        "colab": {
          "base_uri": "https://localhost:8080/"
        },
        "id": "M2cO5-RRSvfU",
        "outputId": "778433a0-1a5d-4241-c8d4-b1de6d8a366b"
      },
      "execution_count": 15,
      "outputs": [
        {
          "output_type": "stream",
          "name": "stdout",
          "text": [
            "Статистика по полу:             Height                           Weight                      \\\n",
            "              mean        std  min  max        mean        std min  max   \n",
            "Gender                                                                    \n",
            "Female  170.227451  15.711825  140  199  105.698039  32.962025  50  160   \n",
            "Male    169.648980  17.065665  140  199  106.314286  31.832734  50  160   \n",
            "\n",
            "           Index                    \n",
            "            mean       std min max  \n",
            "Gender                              \n",
            "Female  3.709804  1.325886   0   5  \n",
            "Male    3.787755  1.386355   0   5  \n"
          ]
        }
      ]
    },
    {
      "cell_type": "markdown",
      "source": [
        "**Выводы: **\n",
        "1. Антопометрические данные мужчин и женщин в данной выборке почти идентичны:\n",
        "Пример: Средний рост женщин = 170\n",
        "Средний рост мужчин = 169\n",
        "Похожая ситуация с весом и имт\n",
        "Это говорит о некоторой специфичности данной выборки\n",
        "2. Средний ИМТ у обоих полов = 3.7, при максимальном значении = 5\n",
        "Можно сказать, что большая часть выборки состоит из объектов с высоким показателем имт\n"
      ],
      "metadata": {
        "id": "au1H9bjsU7-A"
      }
    },
    {
      "cell_type": "code",
      "source": [],
      "metadata": {
        "id": "K1PA61HeVLRz"
      },
      "execution_count": null,
      "outputs": []
    }
  ]
}